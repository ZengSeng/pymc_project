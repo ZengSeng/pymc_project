{
 "cells": [
  {
   "cell_type": "code",
   "execution_count": 1,
   "id": "540c0f2f",
   "metadata": {},
   "outputs": [
    {
     "name": "stderr",
     "output_type": "stream",
     "text": [
      "WARNING (pytensor.configdefaults): g++ not available, if using conda: `conda install gxx`\n",
      "WARNING (pytensor.configdefaults): g++ not detected!  PyTensor will be unable to compile C-implementations and will default to Python. Performance may be severely degraded. To remove this warning, set PyTensor flags cxx to an empty string.\n",
      "Sampling: [plant growth]\n",
      "Initializing NUTS using jitter+adapt_diag...\n",
      "Multiprocess sampling (4 chains in 4 jobs)\n",
      "NUTS: [betas, sigma]\n"
     ]
    },
    {
     "data": {
      "text/html": [
       "<pre style=\"white-space:pre;overflow-x:auto;line-height:normal;font-family:Menlo,'DejaVu Sans Mono',consolas,'Courier New',monospace\">c:\\repo\\pymc_project\\venv\\Lib\\site-packages\\rich\\live.py:231: UserWarning: install \"ipywidgets\" for Jupyter support\n",
       "  warnings.warn('install \"ipywidgets\" for Jupyter support')\n",
       "</pre>\n"
      ],
      "text/plain": [
       "c:\\repo\\pymc_project\\venv\\Lib\\site-packages\\rich\\live.py:231: UserWarning: install \"ipywidgets\" for Jupyter support\n",
       "  warnings.warn('install \"ipywidgets\" for Jupyter support')\n"
      ]
     },
     "metadata": {},
     "output_type": "display_data"
    },
    {
     "data": {
      "text/html": [
       "<pre style=\"white-space:pre;overflow-x:auto;line-height:normal;font-family:Menlo,'DejaVu Sans Mono',consolas,'Courier New',monospace\"></pre>\n"
      ],
      "text/plain": []
     },
     "metadata": {},
     "output_type": "display_data"
    },
    {
     "name": "stderr",
     "output_type": "stream",
     "text": [
      "Sampling 4 chains for 1_000 tune and 1_000 draw iterations (4_000 + 4_000 draws total) took 79 seconds.\n"
     ]
    },
    {
     "name": "stdout",
     "output_type": "stream",
     "text": [
      "                         mean     sd  hdi_3%  hdi_97%  mcse_mean  mcse_sd  \\\n",
      "betas[sunlight hours]   4.973  0.053   4.872    5.071      0.001    0.001   \n",
      "betas[water amount]    19.964  0.049  19.871   20.055      0.001    0.001   \n",
      "betas[soil nitrogen]    1.996  0.056   1.895    2.100      0.001    0.001   \n",
      "sigma                   0.511  0.037   0.445    0.582      0.000    0.001   \n",
      "\n",
      "                       ess_bulk  ess_tail  r_hat  \n",
      "betas[sunlight hours]    5469.0    3527.0    1.0  \n",
      "betas[water amount]      5776.0    3157.0    1.0  \n",
      "betas[soil nitrogen]     4913.0    3428.0    1.0  \n",
      "sigma                    5603.0    3476.0    1.0  \n"
     ]
    }
   ],
   "source": [
    "import pymc as pm\n",
    "\n",
    "# Taking draws from a normal distribution\n",
    "seed = 42\n",
    "x_dist = pm.Normal.dist(shape=(100, 3))\n",
    "x_data = pm.draw(x_dist, random_seed=seed)\n",
    "\n",
    "# Define coordinate values for all dimensions of the data\n",
    "coords={\n",
    " \"trial\": range(100),\n",
    " \"features\": [\"sunlight hours\", \"water amount\", \"soil nitrogen\"],\n",
    "}\n",
    "\n",
    "# Define generative model\n",
    "with pm.Model(coords=coords) as generative_model:\n",
    "   x = pm.Data(\"x\", x_data, dims=[\"trial\", \"features\"])\n",
    "\n",
    "   # Model parameters\n",
    "   betas = pm.Normal(\"betas\", dims=\"features\")\n",
    "   sigma = pm.HalfNormal(\"sigma\")\n",
    "\n",
    "   # Linear model\n",
    "   mu = x @ betas\n",
    "\n",
    "   # Likelihood\n",
    "   # Assuming we measure deviation of each plant from baseline\n",
    "   plant_growth = pm.Normal(\"plant growth\", mu, sigma, dims=\"trial\")\n",
    "\n",
    "\n",
    "# Generating data from model by fixing parameters\n",
    "fixed_parameters = {\n",
    " \"betas\": [5, 20, 2],\n",
    " \"sigma\": 0.5,\n",
    "}\n",
    "with pm.do(generative_model, fixed_parameters) as synthetic_model:\n",
    "   idata = pm.sample_prior_predictive(random_seed=seed) # Sample from prior predictive distribution.\n",
    "   synthetic_y = idata.prior[\"plant growth\"].sel(draw=0, chain=0)\n",
    "\n",
    "\n",
    "# Infer parameters conditioned on observed data\n",
    "with pm.observe(generative_model, {\"plant growth\": synthetic_y}) as inference_model:\n",
    "   idata = pm.sample(random_seed=seed)\n",
    "\n",
    "   summary = pm.stats.summary(idata, var_names=[\"betas\", \"sigma\"])\n",
    "   print(summary)"
   ]
  }
 ],
 "metadata": {
  "kernelspec": {
   "display_name": "venv",
   "language": "python",
   "name": "python3"
  },
  "language_info": {
   "codemirror_mode": {
    "name": "ipython",
    "version": 3
   },
   "file_extension": ".py",
   "mimetype": "text/x-python",
   "name": "python",
   "nbconvert_exporter": "python",
   "pygments_lexer": "ipython3",
   "version": "3.11.1"
  }
 },
 "nbformat": 4,
 "nbformat_minor": 5
}
